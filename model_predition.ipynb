{
 "cells": [
  {
   "metadata": {},
   "cell_type": "markdown",
   "source": [
    "# BRSET Fundus Image Classification with GPT-4o\n",
    "\n",
    "This notebook classifies fundus images in the BRSET dataset for the presence of 'drusens' using GPT-4o. It compares model predictions across age and sex groups, analyzing potential bias using key evaluation metrics.\n",
    "\n",
    "## 1. Import Libraries"
   ],
   "id": "a57b3473e575a0ea"
  },
  {
   "metadata": {
    "ExecuteTime": {
     "end_time": "2024-11-07T20:48:30.730968Z",
     "start_time": "2024-11-07T20:48:30.451630Z"
    }
   },
   "cell_type": "code",
   "source": [
    "import pandas as pd\n",
    "import requests\n",
    "import base64\n",
    "from sklearn.metrics import accuracy_score, confusion_matrix, f1_score\n",
    "import matplotlib.pyplot as plt"
   ],
   "id": "f209e881bccdffbd",
   "outputs": [],
   "execution_count": 1
  },
  {
   "metadata": {},
   "cell_type": "markdown",
   "source": "## 2. API Functions",
   "id": "72bb6c6f91b34c19"
  },
  {
   "metadata": {
    "ExecuteTime": {
     "end_time": "2024-11-07T20:48:31.584352Z",
     "start_time": "2024-11-07T20:48:31.571485Z"
    }
   },
   "cell_type": "code",
   "source": [
    "def encode_image(image_path):\n",
    "    \"\"\"\n",
    "    Encode an image file to base64 string\n",
    "    \"\"\"\n",
    "    with open(image_path, \"rb\") as image_file:\n",
    "        return base64.b64encode(image_file.read()).decode('utf-8')\n",
    "\n",
    "def classify_image(api_key, image_path, question):\n",
    "    \"\"\"\n",
    "    Make an API call to GPT-4o API for image classification\n",
    "    \"\"\"\n",
    "    api_endpoint = \"https://api.openai.com/v1/chat/completions\"\n",
    "    base64_image = encode_image(image_path)\n",
    "\n",
    "    headers = {\n",
    "        \"Content-Type\": \"application/json\",\n",
    "        \"Authorization\": f\"Bearer {api_key}\"\n",
    "    }\n",
    "\n",
    "    payload = {\n",
    "        \"model\": \"gpt-4o\",\n",
    "        \"messages\": [\n",
    "            {\n",
    "                \"role\": \"user\",\n",
    "                \"content\": [\n",
    "                    {\"type\": \"text\", \"text\": question},\n",
    "                    {\"type\": \"image_url\", \"image_url\": {\"url\": f\"data:image/jpeg;base64,{base64_image}\"}}\n",
    "                ]\n",
    "            }\n",
    "        ],\n",
    "        \"max_tokens\": 300\n",
    "    }\n",
    "\n",
    "    response = requests.post(api_endpoint, headers=headers, json=payload)\n",
    "    return int(response.json()['choices'][0]['message']['content'].strip())\n"
   ],
   "id": "e0ea3096c331f07e",
   "outputs": [],
   "execution_count": 2
  },
  {
   "metadata": {},
   "cell_type": "markdown",
   "source": "## 3. Load Dataset and Prepare Experiments",
   "id": "501713a7fb196836"
  },
  {
   "metadata": {
    "ExecuteTime": {
     "end_time": "2024-11-07T20:48:32.478061Z",
     "start_time": "2024-11-07T20:48:32.464064Z"
    }
   },
   "cell_type": "code",
   "source": [
    "# Define paths to the datasets\n",
    "age_experiment_path = 'drusens_only/experiment1_ages/dataset/labels1.csv'\n",
    "sex_experiment_path = 'drusens_only/experiment2_genders/dataset/labels2.csv'\n",
    "\n",
    "# Load the datasets\n",
    "age_experiment = pd.read_csv(age_experiment_path)\n",
    "sex_experiment = pd.read_csv(sex_experiment_path)\n",
    "\n",
    "# Define the OpenAI API key and the classification question\n",
    "api_key = 'API_KEY'\n",
    "question = \"You are an AI ophthalmology assistant analyzing a fundus image to check exclusively for the presence of Drusen. There may be other conditions present, but they are not relevant to this task. If Drusen is present, respond with the digit 1. If Drusen is not present, respond with the digit 0. Only respond with the single digit 1 or 0; provide no explanations or additional text. This is a strict format requirement.\""
   ],
   "id": "384622f4e92d88d6",
   "outputs": [],
   "execution_count": 3
  },
  {
   "metadata": {},
   "cell_type": "markdown",
   "source": "## 4. Perform Classification and Collect Results",
   "id": "6c124bf6653ea7f6"
  },
  {
   "metadata": {
    "ExecuteTime": {
     "end_time": "2024-11-07T20:48:33.393184Z",
     "start_time": "2024-11-07T20:48:33.372148Z"
    }
   },
   "cell_type": "code",
   "source": [
    "# Function to get predictions for a dataset\n",
    "def get_predictions(df, demographic_column, experiment_images_path):\n",
    "    predictions = []\n",
    "    for _, row in df.iterrows():\n",
    "        image_path = f\"{experiment_images_path}/{row['image_id']}.jpg\"  # Correct image path based on experiment\n",
    "        actual = row['drusens']\n",
    "        predicted = classify_image(api_key, image_path, question)\n",
    "        \n",
    "        predictions.append({\n",
    "            'image_id': row['image_id'],\n",
    "            'patient_id': row['patient_id'],\n",
    "            demographic_column: row[demographic_column],\n",
    "            'drusens_actual': actual,\n",
    "            'drusens_predicted': predicted\n",
    "        })\n",
    "    return pd.DataFrame(predictions)\n",
    "\n",
    "# Define image paths for each experiment\n",
    "age_experiment_images_path = 'drusens_only/experiment1_ages/dataset/images'\n",
    "sex_experiment_images_path = 'drusens_only/experiment2_genders/dataset/images'"
   ],
   "id": "fd7261ff477dd3dd",
   "outputs": [],
   "execution_count": 4
  },
  {
   "metadata": {
    "ExecuteTime": {
     "end_time": "2024-11-07T20:55:56.760185Z",
     "start_time": "2024-11-07T20:48:34.302802Z"
    }
   },
   "cell_type": "code",
   "source": [
    "# Get predictions for age experiment\n",
    "age_results = get_predictions(age_experiment, 'age_group', age_experiment_images_path)"
   ],
   "id": "814639e3914ce391",
   "outputs": [],
   "execution_count": 5
  },
  {
   "metadata": {
    "ExecuteTime": {
     "end_time": "2024-11-07T21:05:37.752468Z",
     "start_time": "2024-11-07T21:00:59.434637Z"
    }
   },
   "cell_type": "code",
   "source": [
    "# Get predictions for gender experiment\n",
    "sex_results = get_predictions(sex_experiment, 'patient_sex', sex_experiment_images_path)"
   ],
   "id": "6b935832557fdbe7",
   "outputs": [],
   "execution_count": 6
  },
  {
   "metadata": {},
   "cell_type": "markdown",
   "source": "## 5. Save Results",
   "id": "f3eb0247f5eeb4b3"
  },
  {
   "metadata": {
    "ExecuteTime": {
     "end_time": "2024-11-07T21:06:17.320756Z",
     "start_time": "2024-11-07T21:06:17.312757Z"
    }
   },
   "cell_type": "code",
   "source": [
    "age_results.to_csv('drusens_only/experiment1_ages/results/age_experiment_results_gpt4o.csv', index=False)\n",
    "sex_results.to_csv('drusens_only/experiment2_genders/results/sex_experiment_results_gpt4o.csv', index=False)"
   ],
   "id": "b86912ef7e3ca02f",
   "outputs": [],
   "execution_count": 8
  }
 ],
 "metadata": {
  "kernelspec": {
   "display_name": "Python 3",
   "language": "python",
   "name": "python3"
  },
  "language_info": {
   "codemirror_mode": {
    "name": "ipython",
    "version": 2
   },
   "file_extension": ".py",
   "mimetype": "text/x-python",
   "name": "python",
   "nbconvert_exporter": "python",
   "pygments_lexer": "ipython2",
   "version": "2.7.6"
  }
 },
 "nbformat": 4,
 "nbformat_minor": 5
}
